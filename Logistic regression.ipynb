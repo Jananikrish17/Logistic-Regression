{
 "cells": [
  {
   "attachments": {
    "image.png": {
     "image/png": "[encoded data removed]"
    }
   },
   "cell_type": "markdown",
   "metadata": {},
   "source": [
    "Linear Regression works well when the target column we're trying to predict the dependent columns is ordered and continuous.If the target column instead contains discrete values, then linear regression isn't a good fit.To solve these types of problems, which are known as classification problem.\n",
    "\n",
    "Strating with the binary classsification here the only 2 options for values are:\n",
    "\n",
    "- 0 for the False condition,\n",
    "- 1 for the True condition.\n",
    "\n",
    "- Every year high school students and college students apply to various universities and programs,Each student has a unique set of test scores, grades, and backgrounds the admission commitees must decide which applicants to accept or reject from their program. In this case a binary classification algorithm can be used to accept or reject applicants.\n",
    "\n",
    "- will try to predict whether an applicant will be admitted to a graduate program in a U.S. university using the concepts of classification. Will be working with data set containing data on 644 applicants with the following columns:\n",
    "\n",
    "\n",
    "- Gre : scores ranges from 200 to 800\n",
    "     - applicant's score on the Graduate Record Exam,\n",
    "\n",
    "\n",
    "- gpa: college grade point average\n",
    "   - Continuous between 0.0 and 4.0.\n",
    "  \n",
    "- admit\n",
    "  - Binary value, 0 or 1, where 1 means the applicant was admitted to the program \n",
    "  \n",
    "  \n",
    "  ![image.png](attachment:image.png)"
   ]
  },
  {
   "cell_type": "code",
   "execution_count": 1,
   "metadata": {
    "scrolled": false
   },
   "outputs": [
    {
     "data": {
      "text/html": [
       "<div>\n",
       "<style scoped>\n",
       "    .dataframe tbody tr th:only-of-type {\n",
       "        vertical-align: middle;\n",
       "    }\n",
       "\n",
       "    .dataframe tbody tr th {\n",
       "        vertical-align: top;\n",
       "    }\n",
       "\n",
       "    .dataframe thead th {\n",
       "        text-align: right;\n",
       "    }\n",
       "</style>\n",
       "<table border=\"1\" class=\"dataframe\">\n",
       "  <thead>\n",
       "    <tr style=\"text-align: right;\">\n",
       "      <th></th>\n",
       "      <th>admit</th>\n",
       "      <th>gpa</th>\n",
       "      <th>gre</th>\n",
       "    </tr>\n",
       "  </thead>\n",
       "  <tbody>\n",
       "    <tr>\n",
       "      <th>0</th>\n",
       "      <td>0</td>\n",
       "      <td>3.177277</td>\n",
       "      <td>594.102992</td>\n",
       "    </tr>\n",
       "    <tr>\n",
       "      <th>1</th>\n",
       "      <td>0</td>\n",
       "      <td>3.412655</td>\n",
       "      <td>631.528607</td>\n",
       "    </tr>\n",
       "    <tr>\n",
       "      <th>2</th>\n",
       "      <td>0</td>\n",
       "      <td>2.728097</td>\n",
       "      <td>553.714399</td>\n",
       "    </tr>\n",
       "    <tr>\n",
       "      <th>3</th>\n",
       "      <td>0</td>\n",
       "      <td>3.093559</td>\n",
       "      <td>551.089985</td>\n",
       "    </tr>\n",
       "    <tr>\n",
       "      <th>4</th>\n",
       "      <td>0</td>\n",
       "      <td>3.141923</td>\n",
       "      <td>537.184894</td>\n",
       "    </tr>\n",
       "  </tbody>\n",
       "</table>\n",
       "</div>"
      ],
      "text/plain": [
       "   admit       gpa         gre\n",
       "0      0  3.177277  594.102992\n",
       "1      0  3.412655  631.528607\n",
       "2      0  2.728097  553.714399\n",
       "3      0  3.093559  551.089985\n",
       "4      0  3.141923  537.184894"
      ]
     },
     "execution_count": 1,
     "metadata": {},
     "output_type": "execute_result"
    }
   ],
   "source": [
    "import pandas as pd\n",
    "import matplotlib.pyplot as plt\n",
    "import numpy as np\n",
    "admission =pd.read_csv(\"admissions.csv\")\n",
    "admission.head()"
   ]
  },
  {
   "cell_type": "code",
   "execution_count": 2,
   "metadata": {
    "scrolled": false
   },
   "outputs": [
    {
     "data": {
      "image/png": "[encoded data removed]",
      "text/plain": [
       "<Figure size 432x288 with 1 Axes>"
      ]
     },
     "metadata": {
      "needs_background": "light"
     },
     "output_type": "display_data"
    }
   ],
   "source": [
    "plt.scatter(admission['gpa'],admission['admit'])\n",
    "plt.show()"
   ]
  },
  {
   "cell_type": "markdown",
   "metadata": {},
   "source": [
    "#### Logistic Function"
   ]
  },
  {
   "attachments": {
    "image.png": {
     "image/png": "[encoded data removed]"
    }
   },
   "cell_type": "markdown",
   "metadata": {},
   "source": [
    "The __gpa__ and __admit__ don't have a relationship. The admit column carries the value 0 and 1 used to represent binary value.\n",
    "When numbers are used to represent different options or categories, they are referred to as categorical values.Classsification focuses on estimating relationship between independent and the dependent, categorical variable.\n",
    "\n",
    "Logistic regression is a classification technique outputs a probabilty value. In binary classification, if the probability value is larger than a certain threshold probability, we assign the label for that row to 1 or 0\n",
    "\n",
    "mathematical representation of the logistic function:\n",
    "\n",
    "![image.png](attachment:image.png)"
   ]
  },
  {
   "attachments": {
    "image.png": {
     "image/png": "[encoded data removed]"
    }
   },
   "cell_type": "markdown",
   "metadata": {},
   "source": [
    "The logistic function is broken up into 2 key parts:\n",
    "\n",
    "The exponential transformation, transforming all values to be positive:\n",
    "\n",
    "e^t\n",
    "\n",
    "- The normalization transformation, transforming all values to range between 0 and 1:\n",
    "\n",
    "![image.png](attachment:image.png)\n"
   ]
  },
  {
   "cell_type": "code",
   "execution_count": 3,
   "metadata": {
    "scrolled": true
   },
   "outputs": [
    {
     "data": {
      "image/png": "[encoded data removed]",
      "text/plain": [
       "<Figure size 432x288 with 1 Axes>"
      ]
     },
     "metadata": {
      "needs_background": "light"
     },
     "output_type": "display_data"
    }
   ],
   "source": [
    "def logistics(x):\n",
    "    return np.exp(x)  / (1 + np.exp(x)) \n",
    "x= np.linspace(-6,6,50, dtype=float)\n",
    "y= logistics(x)\n",
    "plt.plot(x, y)\n",
    "plt.ylabel(\"Probability\")\n",
    "plt.show()"
   ]
  },
  {
   "cell_type": "markdown",
   "metadata": {},
   "source": [
    "This generated plot above demonstrates that he y-axis values are constrained to range from 0 to 1"
   ]
  },
  {
   "cell_type": "markdown",
   "metadata": {},
   "source": [
    "####  Training a logistic regression model\n",
    "\n",
    "In this step fit a logistic regression model to the training data using the scikit-learn library to fit a model between the gpa and admit columns.\n",
    "- The gpa column contains the GPA of each applicant as a real value between 0.0 and 4.0 and the admit column specifies if that applicant was admitted (0 if not admitted and 1 if admitted).\n"
   ]
  },
  {
   "cell_type": "code",
   "execution_count": 4,
   "metadata": {
    "scrolled": true
   },
   "outputs": [
    {
     "name": "stdout",
     "output_type": "stream",
     "text": [
      "0    598\n",
      "1     46\n",
      "Name: predicted_label, dtype: int64\n",
      "   admit       gpa         gre  predicted_label\n",
      "0      0  3.177277  594.102992                0\n",
      "1      0  3.412655  631.528607                0\n",
      "2      0  2.728097  553.714399                0\n",
      "3      0  3.093559  551.089985                0\n",
      "4      0  3.141923  537.184894                0\n"
     ]
    },
    {
     "name": "stderr",
     "output_type": "stream",
     "text": [
      "C:\\Users\\Akshaya_Aadithya\\Anaconda3\\lib\\site-packages\\sklearn\\linear_model\\logistic.py:433: FutureWarning: Default solver will be changed to 'lbfgs' in 0.22. Specify a solver to silence this warning.\n",
      "  FutureWarning)\n"
     ]
    }
   ],
   "source": [
    "from sklearn.linear_model import LogisticRegression\n",
    "logistic_model = LogisticRegression()\n",
    "logistic_model.fit(admission[[\"gpa\"]], admission['admit'])\n",
    "label=logistic_model.predict(admission[[\"gpa\"]])\n",
    "admission['predicted_label']= label\n",
    "print(admission['predicted_label'].value_counts())\n",
    "print(admission.head())"
   ]
  },
  {
   "cell_type": "markdown",
   "metadata": {},
   "source": [
    "##### Plotting probabilities"
   ]
  },
  {
   "cell_type": "markdown",
   "metadata": {},
   "source": [
    "The output of the logical regression model is the probability that the row should be labelled as True or in our case 1.We can use the trained model to return the predicted probability for each row in the training data.\n",
    "\n",
    "- to return the probability we are goint to use the [predict_proba method](https://scikitlearn.org/stable/modules/generated/sklearn.linear_model.LogisticRegression.html#sklearn.linear_model.LogisticRegression.predict_proba)"
   ]
  },
  {
   "cell_type": "code",
   "execution_count": 5,
   "metadata": {
    "scrolled": true
   },
   "outputs": [
    {
     "data": {
      "text/plain": [
       "<matplotlib.collections.PathCollection at 0x1be30ca4940>"
      ]
     },
     "execution_count": 5,
     "metadata": {},
     "output_type": "execute_result"
    },
    {
     "data": {
      "image/png": "[encoded data removed]",
      "text/plain": [
       "<Figure size 432x288 with 1 Axes>"
      ]
     },
     "metadata": {
      "needs_background": "light"
     },
     "output_type": "display_data"
    }
   ],
   "source": [
    "pred_probs = logistic_model.predict_proba(admission[['gpa']])\n",
    "plt.scatter(admission['gpa'], pred_probs[:,1])"
   ]
  },
  {
   "cell_type": "markdown",
   "metadata": {},
   "source": [
    "from  the above scatter plot suggests a linear relationship between the gpa values and the probability of being admitted."
   ]
  },
  {
   "attachments": {
    "image.png": {
     "image/png": "[encoded data removed]"
    }
   },
   "cell_type": "markdown",
   "metadata": {},
   "source": [
    "#### Accuracy\n",
    "In logistic resression the model's output 0 and 1 , to decide who gets admitted,need to set a threshold and accepts all the students who exceeds this threshold called discrimnation threshold. The scikit-learns set it to 0.5 by defualt when prediction labels. If the predicted probability is greater than 0.5, the label for that observation is 1. If it is instead less than 0.5, the label for that observation is 0\n",
    "\n",
    "An accuracy is 1.00 mean its predicted 100% if it is 0.2 means hat the model predicted 20%\n",
    "\n",
    "![image.png](attachment:image.png)"
   ]
  },
  {
   "cell_type": "code",
   "execution_count": 7,
   "metadata": {
    "scrolled": false
   },
   "outputs": [
    {
     "name": "stdout",
     "output_type": "stream",
     "text": [
      "   admit       gpa         gre  predicted_label  actual_label\n",
      "0      0  3.177277  594.102992                0             0\n",
      "1      0  3.412655  631.528607                0             0\n",
      "2      0  2.728097  553.714399                0             0\n",
      "3      0  3.093559  551.089985                0             0\n",
      "4      0  3.141923  537.184894                0             0\n",
      "0.6459627329192547\n"
     ]
    }
   ],
   "source": [
    "admission['actual_label']=admission['admit']\n",
    "matches = admission['predicted_label']== admission['actual_label']\n",
    "correct_predictions = admission[matches]\n",
    "print(correct_predictions.head())\n",
    "accuracy = len(correct_predictions) / len(admission)\n",
    "print(accuracy)"
   ]
  },
  {
   "cell_type": "markdown",
   "metadata": {},
   "source": [
    "The accuracy is 64.6%. The accuracy doesnt show how well the model performed on data it was trained on."
   ]
  },
  {
   "cell_type": "markdown",
   "metadata": {},
   "source": [
    "#### Binary classification outcomes\n",
    "By segmenting a model's predictions in to different categories. evaluating binary classification models by testing our model's effectiveness on the training data.\n",
    "\n",
    "|Prediction\t |   Observation| -            |\n",
    "|------------|--------------|--------------|\n",
    "|-            | Admitted (1)|  Rejected (0)|\n",
    "|------------|-----------------|-------------|\n",
    "|Admitted (1)\t|True Positive (TP)\t|False Positive (FP)|\n",
    "|Rejected (0)\t|False Negative (FN)|True Negative (TN)|"
   ]
  },
  {
   "cell_type": "code",
   "execution_count": 12,
   "metadata": {
    "scrolled": true
   },
   "outputs": [
    {
     "name": "stdout",
     "output_type": "stream",
     "text": [
      "31\n",
      "385\n"
     ]
    }
   ],
   "source": [
    "true_positives_filter = (admission[\"predicted_label\"]==1) & (admission[\"actual_label\"]==1)\n",
    "\n",
    "true_positive_count= len(admission[true_positives_filter])\n",
    "\n",
    "true_negative_filter = (admission['predicted_label'] ==0)&(admission['actual_label']==0)\n",
    "\n",
    "true_negatives = len(admission[true_negative_filter])\n",
    "\n",
    "print(true_positive_count)\n",
    "print(true_negatives)"
   ]
  },
  {
   "attachments": {
    "image.png": {
     "image/png": "[encoded data removed]"
    }
   },
   "cell_type": "markdown",
   "metadata": {},
   "source": [
    "#### Sensitivity\n",
    "Sensitivity or True Positive Rate - The proportion of applicants that were correctly admitted:\n",
    "\n",
    "![image.png](attachment:image.png)\n",
    "\n",
    "- How effective is this model at identifying positive outcomes?\n",
    "\n",
    "      If the true positive is low that means the model is not effective catching the positive cases\n",
    "      \n",
    "      we want high sensitivity model catches all the positive cases\n"
   ]
  },
  {
   "cell_type": "code",
   "execution_count": 15,
   "metadata": {},
   "outputs": [
    {
     "name": "stdout",
     "output_type": "stream",
     "text": [
      "0.12704918032786885\n"
     ]
    }
   ],
   "source": [
    "true_positive_filter = (admission[\"predicted_label\"] == 1) & (admission[\"actual_label\"] == 1)\n",
    "true_positives = len(admission[true_positive_filter])\n",
    "\n",
    "false_negative_filter = (admission['predicted_label']== 0)&(admission['actual_label']==1)\n",
    "\n",
    "false_negatives = len(admission[false_negative_filter])\n",
    "\n",
    "sensitivity = true_positives/(true_positives + false_negatives)\n",
    "print(sensitivity)"
   ]
  },
  {
   "cell_type": "code",
   "execution_count": null,
   "metadata": {},
   "outputs": [],
   "source": [
    "sensitivity of the model is around 12.7% "
   ]
  },
  {
   "attachments": {
    "image.png": {
     "image/png": "[encoded data removed]"
    }
   },
   "cell_type": "markdown",
   "metadata": {},
   "source": [
    "#### Specificity\n",
    "Specificity or True Negative Rate - The proportion of applicants that were correctly rejected:\n",
    "\n",
    "![image.png](attachment:image.png)\n",
    "\n",
    "\n",
    "How effective is this model at identifying negative outcomes?\n",
    "\n",
    "- A high specificity means that the model is really good at predicting which applicants should be rejected"
   ]
  },
  {
   "cell_type": "code",
   "execution_count": 21,
   "metadata": {
    "scrolled": true
   },
   "outputs": [
    {
     "name": "stdout",
     "output_type": "stream",
     "text": [
      "0.9625\n"
     ]
    }
   ],
   "source": [
    "true_positive_filter = (admission[\"predicted_label\"] == 1) & (admission[\"actual_label\"] == 1)\n",
    "true_positives = len(admission[true_positive_filter])\n",
    "false_negative_filter = (admission[\"predicted_label\"] == 0) & (admission[\"actual_label\"] == 1)\n",
    "false_negatives = len(admission[false_negative_filter])\n",
    "true_negative_filter = (admission[\"predicted_label\"] == 0) & (admission[\"actual_label\"] == 0)\n",
    "true_negatives = len(admission[true_negative_filter])\n",
    "\n",
    "\n",
    "false_positives_filter = (admission['predicted_label']==1) & (admission['actual_label']==0)\n",
    "false_positives= len(admission[false_positives_filter])\n",
    "\n",
    "specificity = true_negatives /(true_negatives + false_positives)\n",
    "print(specificity)                                                       "
   ]
  },
  {
   "cell_type": "markdown",
   "metadata": {},
   "source": [
    "The specificity of the model is 96.25%. This means that the model is really good at knowing which applicants to reject"
   ]
  }
 ],
 "metadata": {
  "kernelspec": {
   "display_name": "Python 3",
   "language": "python",
   "name": "python3"
  },
  "language_info": {
   "codemirror_mode": {
    "name": "ipython",
    "version": 3
   },
   "file_extension": ".py",
   "mimetype": "text/x-python",
   "name": "python",
   "nbconvert_exporter": "python",
   "pygments_lexer": "ipython3",
   "version": "3.7.3"
  }
 },
 "nbformat": 4,
 "nbformat_minor": 2
}
